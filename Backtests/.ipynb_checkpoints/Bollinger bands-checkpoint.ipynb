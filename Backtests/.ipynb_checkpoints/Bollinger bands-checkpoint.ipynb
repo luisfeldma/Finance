{
 "cells": [
  {
   "cell_type": "markdown",
   "metadata": {},
   "source": [
    "### Importo as bibliotecas necessárias"
   ]
  },
  {
   "cell_type": "code",
   "execution_count": 1,
   "metadata": {},
   "outputs": [],
   "source": [
    "import numpy as np\n",
    "import pandas as pd\n",
    "import pandas_datareader as dt\n",
    "import matplotlib.pyplot as plt"
   ]
  },
  {
   "cell_type": "markdown",
   "metadata": {},
   "source": [
    "### Importo os dados dos setores"
   ]
  },
  {
   "cell_type": "code",
   "execution_count": 2,
   "metadata": {},
   "outputs": [],
   "source": [
    "# Importo a plan com os dados do ibrx\n",
    "ibrx_compo = pd.read_csv('IBrx Compo.csv', index_col=0)\n",
    "\n",
    "# Transformo em uma lista\n",
    "all_tickers = []\n",
    "for column in range(0, len(ibrx_compo.columns)):\n",
    "    for row in range(0, len(ibrx_compo.index)):\n",
    "        if ibrx_compo.iloc[row, column] not in all_tickers and str(ibrx_compo.iloc[row, column]) != 'nan':\n",
    "            all_tickers.append(ibrx_compo.iloc[row, column])"
   ]
  },
  {
   "cell_type": "markdown",
   "metadata": {},
   "source": [
    "### Puxo os dados do yahoo"
   ]
  },
  {
   "cell_type": "code",
   "execution_count": null,
   "metadata": {},
   "outputs": [],
   "source": [
    "%%time\n",
    "# Defino qual será a data de início dos dataframes de preços\n",
    "start_date = '2010-01-01'\n",
    "\n",
    "# Crio um dicionário que irá conter a série de preços de cada ação\n",
    "prices_df = pd.DataFrame()\n",
    "\n",
    "# Pego apenas a coluna Adjusted Close porque é o que me interessa\n",
    "errors = []\n",
    "for s in all_tickers:\n",
    "    try:\n",
    "        prices_df[s] = dt.DataReader(s, start=start_date, data_source='yahoo')['Adj Close']\n",
    "    except:\n",
    "        pass\n",
    "        errors.append(s)      "
   ]
  },
  {
   "cell_type": "code",
   "execution_count": null,
   "metadata": {},
   "outputs": [],
   "source": [
    "# Pego os dados do ibovespa\n",
    "ibov = dt.DataReader('^BVSP', start=start_date, data_source='yahoo')['Adj Close']    "
   ]
  },
  {
   "cell_type": "markdown",
   "metadata": {},
   "source": [
    "### Tratando a base de dados"
   ]
  },
  {
   "cell_type": "code",
   "execution_count": null,
   "metadata": {},
   "outputs": [],
   "source": [
    "# Crio uma função que preenche dados vazios\n",
    "def fill_values(df):\n",
    "    for i in df.columns.values:\n",
    "        init = df[i].first_valid_index()\n",
    "        end = df[i].last_valid_index()\n",
    "        df[i].loc[init:end]=df[i].loc[init:end].fillna(method='ffill')"
   ]
  },
  {
   "cell_type": "code",
   "execution_count": null,
   "metadata": {},
   "outputs": [],
   "source": [
    "# Preencho os valores descontinuos de precos\n",
    "fill_values(prices_df)\n",
    "prices_df.drop('TRPL4.SA', axis=1, inplace=True) #Estava com dados estranhos (saltos nos precos nao condizentes com a realidade)\n",
    "prices_df['MGLU3.SA'] = prices_df['MGLU3.SA']+1 #Estava com precos negativos em 2014 (???)"
   ]
  },
  {
   "cell_type": "markdown",
   "metadata": {},
   "source": [
    "### Metricas"
   ]
  },
  {
   "cell_type": "code",
   "execution_count": null,
   "metadata": {},
   "outputs": [],
   "source": [
    "# Calculo as medias moveis\n",
    "MA15 = prices_df.rolling(15).mean()\n",
    "\n",
    "# Calculo os desvios \n",
    "lower15 = MA15 - 2*prices_df.rolling(15).std()\n",
    "upper15 = MA15 + 2*prices_df.rolling(15).std()"
   ]
  },
  {
   "cell_type": "code",
   "execution_count": null,
   "metadata": {},
   "outputs": [],
   "source": [
    "# Quando a oportunidade aparece\n",
    "timing_buy = prices_df[prices_df<lower15]\n",
    "timing_sell = prices_df[prices_df>upper15]\n",
    "\n",
    "timing_sell.count(axis=1).plot(figsize=(12,5))"
   ]
  },
  {
   "cell_type": "code",
   "execution_count": null,
   "metadata": {},
   "outputs": [],
   "source": [
    "# Excluo os dias com mais de 10 acoes\n",
    "new_timing = timing_buy[timing_buy.count(axis=1)<5]\n",
    "\n",
    "timing_buy[:] = np.nan\n",
    "timing_buy.loc[new_timing.index] = new_timing\n",
    "\n",
    "# Sell\n",
    "s_new_timing = timing_sell[timing_sell.count(axis=1)<5]\n",
    "\n",
    "timing_sell[:] = np.nan\n",
    "timing_sell.loc[s_new_timing.index] = s_new_timing"
   ]
  },
  {
   "cell_type": "code",
   "execution_count": null,
   "metadata": {},
   "outputs": [],
   "source": [
    "# Faco um dataframe que contem a data e as acoes que serao compradas\n",
    "buys = {}\n",
    "for date in timing_buy.index:\n",
    "    buys.update({date:list(timing_buy.loc[date].dropna().index)})\n",
    "    \n",
    "buys_df = pd.DataFrame.from_dict(buys, orient='index')\n",
    "\n",
    "# Faco um dataframe que contem a data e as acoes que serao vendidas\n",
    "sells = {}\n",
    "for date in timing_sell.index:\n",
    "    sells.update({date:list(timing_sell.loc[date].dropna().index)})\n",
    "    \n",
    "sells_df = pd.DataFrame.from_dict(sells, orient='index')"
   ]
  },
  {
   "cell_type": "code",
   "execution_count": null,
   "metadata": {},
   "outputs": [],
   "source": [
    "# Faco o filtro do IBrX (se a acao nao estiver no indice no ano ela sera deletada da lista de compra)\n",
    "for date in buys_df.index:\n",
    "    buys = list(buys_df.loc[date].dropna())\n",
    "    for b in range(0, len(buys)):\n",
    "        if buys[b] not in list(ibrx_compo[str(date.year)]):\n",
    "            buys_df.loc[date][b] = None\n",
    "            \n",
    "for date in sells_df.index:\n",
    "    sells = list(sells_df.loc[date].dropna())\n",
    "    for s in range(0, len(sells)):\n",
    "        if sells[s] not in list(ibrx_compo[str(date.year)]):\n",
    "            sells_df.loc[date][b] = None            "
   ]
  },
  {
   "cell_type": "code",
   "execution_count": null,
   "metadata": {
    "scrolled": true
   },
   "outputs": [],
   "source": [
    "# Descubro quais acoes estao abaixo da media de 15 dias por mais de uma vez em 30 dias uteis \n",
    "roll_count = prices_df[prices_df<lower15].rolling(30).count()\n",
    "\n",
    "s_roll_count = prices_df[prices_df<upper15].rolling(30).count()"
   ]
  },
  {
   "cell_type": "markdown",
   "metadata": {},
   "source": [
    "### Retornos das estrategias"
   ]
  },
  {
   "cell_type": "code",
   "execution_count": null,
   "metadata": {},
   "outputs": [],
   "source": [
    "%%time\n",
    "days = 1\n",
    "b_returns = {}\n",
    "for d in range(0,len(timing_buy.index)-days):\n",
    "    #Buys\n",
    "    # Seleciona as acoes com ordem de compra (d seria a data de compra e d+days a data da venda)\n",
    "    df_tickers = prices_df.loc[timing_buy.index[d]:timing_buy.index[d+days],list(buys_df.loc[timing_buy.index[d]].dropna())].pct_change(days).tail(1)\n",
    "    # Passa pelo filtro do rolling count\n",
    "    list_count = roll_count.loc[timing_buy.index[d], list(df_tickers.columns)]\n",
    "    df_tickers = df_tickers.drop(list(list_count[list_count>3].index), axis=1)\n",
    "    \n",
    "    # Retorno supondo equal weights\n",
    "    b_date_return = df_tickers.mean(axis=1)\n",
    "    #if str(b_date_return[0]) == 'nan':\n",
    "    #   b_date_return = ibov[timing_buy.index].loc[timing_buy.index[d]:timing_buy.index[d+days]].pct_change().tail(1)\n",
    "    \n",
    "    b_returns.update({b_date_return.index[0]:b_date_return[0]})\n"
   ]
  },
  {
   "cell_type": "code",
   "execution_count": null,
   "metadata": {
    "scrolled": true
   },
   "outputs": [],
   "source": [
    "%%time\n",
    "s_returns = {}\n",
    "for d in range(0,len(timing_sell.index)-days):\n",
    "    #Sells\n",
    "    # Seleciona as acoes com ordem de venda (d seria a data de venda e d+days a data da compra)\n",
    "    df_tickers = prices_df.loc[timing_sell.index[d]:timing_sell.index[d+days],list(sells_df.loc[timing_sell.index[d]].dropna())].pct_change(days).tail(1)\n",
    "    # Passa pelo filtro do rolling count\n",
    "    list_count = roll_count.loc[timing_sell.index[d], list(df_tickers.columns)]\n",
    "    df_tickers = df_tickers.drop(list(list_count[list_count>3].index), axis=1)\n",
    "    \n",
    "    s_date_return = (df_tickers.mean(axis=1))*-1\n",
    "    \n",
    "    s_returns.update({s_date_return.index[0]:s_date_return[0]})"
   ]
  },
  {
   "cell_type": "code",
   "execution_count": null,
   "metadata": {},
   "outputs": [],
   "source": [
    "boll = (pd.Series(s_returns) + pd.Series(b_returns))/2\n",
    "\n",
    "fig = plt.figure(figsize=(16,8))\n",
    "ax = fig.add_subplot(1,1,1)\n",
    "\n",
    "ax.plot(pd.Series(b_returns).fillna(0).add(1).cumprod(), c='steelblue', label='Bollinger bands (buy)', lw=2)\n",
    "ax.plot(pd.Series(s_returns).fillna(0).add(1).cumprod(), c='green', label='Bollinger bands (sell)', lw=2)\n",
    "ax.plot(boll.fillna(0).add(1).cumprod(), c='purple', label='Bollinger bands (long-short)', lw=2)\n",
    "ax.plot((ibov/ibov.iloc[0]), c='red', label='Ibovespa', lw=2)\n",
    "ax.legend(loc='best')\n",
    "ax.set_yscale('log')\n",
    "ax.set_title('Performances')\n",
    "ax.grid(True, linestyle='--')\n",
    "plt.show()"
   ]
  },
  {
   "cell_type": "markdown",
   "metadata": {},
   "source": [
    "### Tabelas de retornos"
   ]
  },
  {
   "cell_type": "code",
   "execution_count": null,
   "metadata": {
    "scrolled": true
   },
   "outputs": [],
   "source": [
    "b = pd.Series(b_returns).fillna(0).add(1).cumprod()\n",
    "b_monthly_returns = b.groupby([b.index.year, b.index.month]).tail(1).pct_change()\n",
    "\n",
    "table = pd.DataFrame(index=b_monthly_returns.groupby(b_monthly_returns.index.year).tail(1).index.year, columns=['01', '02', '03','04','05','06','07','08','09','10','11','12'])\n",
    "for y in b_monthly_returns.groupby(b_monthly_returns.index.year).tail(1).index.year:\n",
    "    for m in table.columns:\n",
    "        if y == 2020 and m == '12':\n",
    "            break\n",
    "        table.loc[y][int(m)-1] = \"{:.2%}\".format(b_monthly_returns.loc[str(y)+'-'+m][0].round(4))\n"
   ]
  },
  {
   "cell_type": "code",
   "execution_count": null,
   "metadata": {},
   "outputs": [],
   "source": [
    "cumm = b.groupby(b.index.year).tail(1).pct_change()\n",
    "cumm['2010-12-30'] = b.groupby(b.index.year).tail(1)[0]-1"
   ]
  },
  {
   "cell_type": "code",
   "execution_count": null,
   "metadata": {},
   "outputs": [],
   "source": [
    "table.columns = ['Jan', 'Feb', 'Mar', 'Apr', 'May', 'Jun', 'Jul', 'Aug', 'Sep', 'Oct', 'Nov', 'Dec']\n",
    "table['Acumulado'] = pd.Series([\"{0:.2%}\".format(val) for val in cumm], index = table.index)\n",
    "table"
   ]
  },
  {
   "cell_type": "code",
   "execution_count": null,
   "metadata": {},
   "outputs": [],
   "source": [
    "i = ibov.pct_change().add(1).cumprod()\n",
    "i_monthly_returns = i.groupby([i.index.year, i.index.month]).tail(1).pct_change()\n",
    "\n",
    "itable = pd.DataFrame(index=i_monthly_returns.groupby(i_monthly_returns.index.year).tail(1).index.year, columns=['01', '02', '03','04','05','06','07','08','09','10','11','12'])\n",
    "for y in i_monthly_returns.groupby(i_monthly_returns.index.year).tail(1).index.year:\n",
    "    for m in itable.columns:\n",
    "        if y == 2020 and m == '12':\n",
    "            break\n",
    "        itable.loc[y][int(m)-1] = \"{:.2%}\".format(i_monthly_returns.loc[str(y)+'-'+m][0].round(4))"
   ]
  },
  {
   "cell_type": "code",
   "execution_count": null,
   "metadata": {},
   "outputs": [],
   "source": [
    "icumm = i.groupby(i.index.year).tail(1).pct_change()\n",
    "icumm['2010-12-30'] = i.groupby(i.index.year).tail(1)[0]-1"
   ]
  },
  {
   "cell_type": "code",
   "execution_count": null,
   "metadata": {},
   "outputs": [],
   "source": [
    "itable.columns = ['Jan', 'Feb', 'Mar', 'Apr', 'May', 'Jun', 'Jul', 'Aug', 'Sep', 'Oct', 'Nov', 'Dec']\n",
    "itable['Acumulado'] = pd.Series([\"{0:.2%}\".format(val) for val in icumm], index = itable.index)\n",
    "itable"
   ]
  },
  {
   "cell_type": "markdown",
   "metadata": {},
   "source": [
    "## Estatisticas"
   ]
  },
  {
   "cell_type": "code",
   "execution_count": null,
   "metadata": {},
   "outputs": [],
   "source": [
    "corr = pd.Series(boll).fillna(0).corr(ibov.pct_change())\n",
    "ibov_vol = (ibov.pct_change().dropna().std())*252**0.5\n",
    "ibov_sharpe = (ibov.pct_change().dropna().mean())/(ibov.pct_change().dropna().std())*252**0.5\n",
    "boll_vol_b = (pd.Series(b_returns).fillna(0).std())*252**0.5\n",
    "boll_sharpe_b = (pd.Series(b_returns).fillna(0).mean())/(pd.Series(b_returns).fillna(0).std())*252**0.5\n",
    "boll_vol_s = (pd.Series(s_returns).fillna(0).std())*252**0.5\n",
    "boll_sharpe_s = (pd.Series(s_returns).fillna(0).mean())/(pd.Series(s_returns).fillna(0).std())*252**0.5\n",
    "boll_vol_ls = (pd.Series(boll).fillna(0).std())*252**0.5\n",
    "boll_sharpe_ls = (pd.Series(boll).fillna(0).mean())/(pd.Series(boll).fillna(0).std())*252**0.5\n",
    "\n",
    "stats = pd.DataFrame(index=['Vol', 'Sharpe'], columns=['Ibov', 'B Bands (buy)', 'B Bands (sell)', 'B Bands (l-s)'])\n",
    "stats['Ibov'] = [ibov_vol, ibov_sharpe]\n",
    "stats['B Bands (buy)'] = [boll_vol_b,boll_sharpe_b]\n",
    "stats['B Bands (sell)'] = [boll_vol_s,boll_sharpe_s]\n",
    "stats['B Bands (l-s)'] = [boll_vol_ls,boll_sharpe_ls]\n",
    "stats"
   ]
  },
  {
   "cell_type": "code",
   "execution_count": null,
   "metadata": {},
   "outputs": [],
   "source": []
  }
 ],
 "metadata": {
  "kernelspec": {
   "display_name": "Python 3",
   "language": "python",
   "name": "python3"
  },
  "language_info": {
   "codemirror_mode": {
    "name": "ipython",
    "version": 3
   },
   "file_extension": ".py",
   "mimetype": "text/x-python",
   "name": "python",
   "nbconvert_exporter": "python",
   "pygments_lexer": "ipython3",
   "version": "3.7.1"
  }
 },
 "nbformat": 4,
 "nbformat_minor": 4
}
